{
 "cells": [
  {
   "cell_type": "markdown",
   "metadata": {},
   "source": [
    "# Equal-Weight S&P 500 Index Fund\n",
    "\n",
    "## Introduction & Library Imports\n",
    "\n",
    "The S&P 500 is the world's most popular stock market index. The largest fund that is benchmarked to this index is the SPDR® S&P 500® ETF Trust. It has more than US$250 billion of assets under management.\n",
    "\n",
    "The goal of this section of the course is to create a Python script that will accept the value of your portfolio and tell you how many shares of each S&P 500 constituent you should purchase to get an equal-weight version of the index fund.\n",
    "\n",
    "## Library Imports\n",
    "\n",
    "The first thing we need to do is import the open-source software libraries that we'll be using in this tutorial."
   ]
  },
  {
   "cell_type": "code",
   "execution_count": 2,
   "metadata": {},
   "outputs": [],
   "source": [
    "import numpy as np\n",
    "import pandas as pd \n",
    "import requests\n",
    "import xlsxwriter\n",
    "import math \n"
   ]
  },
  {
   "cell_type": "markdown",
   "metadata": {},
   "source": [
    "## Importing Our List of Stocks\n",
    "\n",
    "The next thing we need to do is import the constituents of the S&P 500.\n",
    "\n",
    "These constituents change over time, so in an ideal world you would connect directly to the index provider (Standard & Poor's) and pull their real-time constituents on a regular basis.\n",
    "\n",
    "Paying for access to the index provider's API is outside of the scope of this course. \n",
    "\n",
    "There's a static version of the S&P 500 constituents available here. [Click this link to download them now](https://drive.google.com/file/d/1ZJSpbY69DVckVZlO9cC6KkgfSufybcHN/view?usp=sharing). Move this file into the `starter-files` folder so it can be accessed by other files in that directory.\n",
    "\n",
    "Now it's time to import these stocks to our Jupyter Notebook file."
   ]
  },
  {
   "cell_type": "code",
   "execution_count": 24,
   "metadata": {},
   "outputs": [
    {
     "data": {
      "text/plain": [
       "'STX,CAG,DVN,SWKS,SNPS'"
      ]
     },
     "execution_count": 24,
     "metadata": {},
     "output_type": "execute_result"
    }
   ],
   "source": [
    "stock_symbols = pd.read_csv(\"data/sp_500_stocks.csv\")\n",
    "stock_symbols2 = stock_symbols[\"Ticker\"].sample(n=5, replace=False)\n",
    "symbols = \",\".join(stock_symbols2)\n",
    "symbols"
   ]
  },
  {
   "cell_type": "markdown",
   "metadata": {},
   "source": [
    "## Acquiring an API Token\n",
    "\n",
    "Now it's time to import our IEX Cloud API token. This is the data provider that we will be using throughout this course.\n",
    "\n",
    "API tokens (and other sensitive information) should be stored in a `secrets.py` file that doesn't get pushed to your local Git repository. We'll be using a sandbox API token in this course, which means that the data we'll use is randomly-generated and (more importantly) has no cost associated with it.\n",
    "\n",
    "[Click here](http://nickmccullum.com/algorithmic-trading-python/secrets.py) to download your `secrets.py` file. Move the file into the same directory as this Jupyter Notebook before proceeding."
   ]
  },
  {
   "cell_type": "code",
   "execution_count": 25,
   "metadata": {},
   "outputs": [],
   "source": [
    "from my_secrets import IEX_CLOUD_API_TOKEN, TWELVEDATA_API_KEY"
   ]
  },
  {
   "cell_type": "markdown",
   "metadata": {},
   "source": [
    "## Making Our First API Call\n",
    "\n",
    "Now it's time to structure our API calls to IEX cloud. \n",
    "\n",
    "We need the following information from the API:\n",
    "\n",
    "* Market capitalization for each stock\n",
    "* Price of each stock\n",
    "\n"
   ]
  },
  {
   "cell_type": "code",
   "execution_count": null,
   "metadata": {},
   "outputs": [
    {
     "data": {
      "text/plain": [
       "{'STX': {'symbol': 'STX',\n",
       "  'name': 'Seagate Technology Holdings Plc',\n",
       "  'exchange': 'NASDAQ',\n",
       "  'mic_code': 'XNGS',\n",
       "  'currency': 'USD',\n",
       "  'datetime': '2025-04-14',\n",
       "  'timestamp': 1744637400,\n",
       "  'last_quote_at': 1744660740,\n",
       "  'open': '75',\n",
       "  'high': '75.23000',\n",
       "  'low': '71.60000',\n",
       "  'close': '72.67000',\n",
       "  'volume': '3082317',\n",
       "  'previous_close': '70.15000',\n",
       "  'change': '2.52000',\n",
       "  'percent_change': '3.59230',\n",
       "  'average_volume': '6337902',\n",
       "  'is_market_open': False,\n",
       "  'fifty_two_week': {'low': '63.19000',\n",
       "   'high': '115.32000',\n",
       "   'low_change': '9.48000',\n",
       "   'high_change': '-42.65000',\n",
       "   'low_change_percent': '15.0023734',\n",
       "   'high_change_percent': '-36.98405',\n",
       "   'range': '63.189999 - 115.320000'}},\n",
       " 'CAG': {'symbol': 'CAG',\n",
       "  'name': 'Conagra Brands Inc.',\n",
       "  'exchange': 'NYSE',\n",
       "  'mic_code': 'XNYS',\n",
       "  'currency': 'USD',\n",
       "  'datetime': '2025-04-14',\n",
       "  'timestamp': 1744637400,\n",
       "  'last_quote_at': 1744660740,\n",
       "  'open': '26',\n",
       "  'high': '26.335',\n",
       "  'low': '25.77000',\n",
       "  'close': '26.19000',\n",
       "  'volume': '3655415',\n",
       "  'previous_close': '25.98000',\n",
       "  'change': '0.21000099',\n",
       "  'percent_change': '0.80831792',\n",
       "  'average_volume': '7952812',\n",
       "  'is_market_open': False,\n",
       "  'fifty_two_week': {'low': '23.059999',\n",
       "   'high': '33.24000',\n",
       "   'low_change': '3.13000',\n",
       "   'high_change': '-7.050001',\n",
       "   'low_change_percent': '13.57329',\n",
       "   'high_change_percent': '-21.20939',\n",
       "   'range': '23.059999 - 33.240002'}},\n",
       " 'DVN': {'symbol': 'DVN',\n",
       "  'name': 'Devon Energy Corporation',\n",
       "  'exchange': 'NYSE',\n",
       "  'mic_code': 'XNYS',\n",
       "  'currency': 'USD',\n",
       "  'datetime': '2025-04-14',\n",
       "  'timestamp': 1744637400,\n",
       "  'last_quote_at': 1744660740,\n",
       "  'open': '29.24000',\n",
       "  'high': '29.24000',\n",
       "  'low': '28.09',\n",
       "  'close': '28.72000',\n",
       "  'volume': '8423302',\n",
       "  'previous_close': '28.23000',\n",
       "  'change': '0.48999977',\n",
       "  'percent_change': '1.73574',\n",
       "  'average_volume': '14597680',\n",
       "  'is_market_open': False,\n",
       "  'fifty_two_week': {'low': '25.89000',\n",
       "   'high': '54.040001',\n",
       "   'low_change': '2.83000',\n",
       "   'high_change': '-25.32000',\n",
       "   'low_change_percent': '10.93086',\n",
       "   'high_change_percent': '-46.85418',\n",
       "   'range': '25.889999 - 54.040001'}},\n",
       " 'SWKS': {'symbol': 'SWKS',\n",
       "  'name': 'Skyworks Solutions Inc.',\n",
       "  'exchange': 'NASDAQ',\n",
       "  'mic_code': 'XNGS',\n",
       "  'currency': 'USD',\n",
       "  'datetime': '2025-04-14',\n",
       "  'timestamp': 1744637400,\n",
       "  'last_quote_at': 1744660740,\n",
       "  'open': '58.020000',\n",
       "  'high': '58.81',\n",
       "  'low': '56.46180',\n",
       "  'close': '57.73000',\n",
       "  'volume': '3260394',\n",
       "  'previous_close': '56.54000',\n",
       "  'change': '1.19000',\n",
       "  'percent_change': '2.10470',\n",
       "  'average_volume': '5683899',\n",
       "  'is_market_open': False,\n",
       "  'fifty_two_week': {'low': '47.93000',\n",
       "   'high': '120.86000',\n",
       "   'low_change': '9.80000',\n",
       "   'high_change': '-63.13000',\n",
       "   'low_change_percent': '20.44648',\n",
       "   'high_change_percent': '-52.23399',\n",
       "   'range': '47.930000 - 120.860001'}},\n",
       " 'SNPS': {'symbol': 'SNPS',\n",
       "  'name': 'Synopsys Inc.',\n",
       "  'exchange': 'NASDAQ',\n",
       "  'mic_code': 'XNGS',\n",
       "  'currency': 'USD',\n",
       "  'datetime': '2025-04-14',\n",
       "  'timestamp': 1744637400,\n",
       "  'last_quote_at': 1744660740,\n",
       "  'open': '428.89999',\n",
       "  'high': '430.54999',\n",
       "  'low': '416.079987',\n",
       "  'close': '421.88000',\n",
       "  'volume': '968467',\n",
       "  'previous_close': '421.20999',\n",
       "  'change': '0.67001343',\n",
       "  'percent_change': '0.15906874',\n",
       "  'average_volume': '1839317',\n",
       "  'is_market_open': False,\n",
       "  'fifty_two_week': {'low': '365.73999',\n",
       "   'high': '624.79999',\n",
       "   'low_change': '56.14001',\n",
       "   'high_change': '-202.91998',\n",
       "   'low_change_percent': '15.34971',\n",
       "   'high_change_percent': '-32.47759',\n",
       "   'range': '365.739990 - 624.799988'}}}"
      ]
     },
     "execution_count": 26,
     "metadata": {},
     "output_type": "execute_result"
    }
   ],
   "source": [
    "base_url = \"https://api.twelvedata.com\"\n",
    "symbol = \"AAPL\"\n",
    "url = f\"{base_url}/quote?symbol={symbols}&apikey={TWELVEDATA_API_KEY}\"\n",
    "# data = requests.get(url).json()\n"
   ]
  },
  {
   "cell_type": "markdown",
   "metadata": {},
   "source": [
    "## Parsing Our API Call\n",
    "\n",
    "The API call that we executed in the last code block contains all of the information required to build our equal-weight S&P 500 strategy. \n",
    "\n",
    "With that said, the data isn't in a proper format yet. We need to parse it first."
   ]
  },
  {
   "cell_type": "code",
   "execution_count": null,
   "metadata": {},
   "outputs": [
    {
     "data": {
      "text/plain": [
       "'202.61'"
      ]
     },
     "execution_count": 10,
     "metadata": {},
     "output_type": "execute_result"
    }
   ],
   "source": [
    "# price = data[\"close\"]"
   ]
  },
  {
   "cell_type": "markdown",
   "metadata": {},
   "source": [
    "## Adding Our Stocks Data to a Pandas DataFrame\n",
    "\n",
    "The next thing we need to do is add our stock's price and market capitalization to a pandas DataFrame. Think of a DataFrame like the Python version of a spreadsheet. It stores tabular data."
   ]
  },
  {
   "cell_type": "code",
   "execution_count": 52,
   "metadata": {},
   "outputs": [
    {
     "data": {
      "application/vnd.microsoft.datawrangler.viewer.v0+json": {
       "columns": [
        {
         "name": "index",
         "rawType": "int64",
         "type": "integer"
        },
        {
         "name": "Symbol",
         "rawType": "object",
         "type": "string"
        },
        {
         "name": "Price",
         "rawType": "float64",
         "type": "float"
        },
        {
         "name": "Market Cap",
         "rawType": "float64",
         "type": "float"
        }
       ],
       "conversionMethod": "pd.DataFrame",
       "ref": "1468aebb-7ad0-4cf8-a3c1-7921692edf2b",
       "rows": [
        [
         "0",
         "MMM",
         "152.2",
         "83294183424.0"
        ],
        [
         "1",
         "AOS",
         "67.3",
         "9758164992.0"
        ],
        [
         "2",
         "ABT",
         "127.93",
         "221889478656.0"
        ],
        [
         "3",
         "ABBV",
         "183.9",
         "324977033216.0"
        ],
        [
         "4",
         "ACN",
         "384.95",
         "240778526720.0"
        ]
       ],
       "shape": {
        "columns": 3,
        "rows": 5
       }
      },
      "text/html": [
       "<div>\n",
       "<style scoped>\n",
       "    .dataframe tbody tr th:only-of-type {\n",
       "        vertical-align: middle;\n",
       "    }\n",
       "\n",
       "    .dataframe tbody tr th {\n",
       "        vertical-align: top;\n",
       "    }\n",
       "\n",
       "    .dataframe thead th {\n",
       "        text-align: right;\n",
       "    }\n",
       "</style>\n",
       "<table border=\"1\" class=\"dataframe\">\n",
       "  <thead>\n",
       "    <tr style=\"text-align: right;\">\n",
       "      <th></th>\n",
       "      <th>Symbol</th>\n",
       "      <th>Price</th>\n",
       "      <th>Market Cap</th>\n",
       "    </tr>\n",
       "  </thead>\n",
       "  <tbody>\n",
       "    <tr>\n",
       "      <th>0</th>\n",
       "      <td>MMM</td>\n",
       "      <td>152.20</td>\n",
       "      <td>8.329418e+10</td>\n",
       "    </tr>\n",
       "    <tr>\n",
       "      <th>1</th>\n",
       "      <td>AOS</td>\n",
       "      <td>67.30</td>\n",
       "      <td>9.758165e+09</td>\n",
       "    </tr>\n",
       "    <tr>\n",
       "      <th>2</th>\n",
       "      <td>ABT</td>\n",
       "      <td>127.93</td>\n",
       "      <td>2.218895e+11</td>\n",
       "    </tr>\n",
       "    <tr>\n",
       "      <th>3</th>\n",
       "      <td>ABBV</td>\n",
       "      <td>183.90</td>\n",
       "      <td>3.249770e+11</td>\n",
       "    </tr>\n",
       "    <tr>\n",
       "      <th>4</th>\n",
       "      <td>ACN</td>\n",
       "      <td>384.95</td>\n",
       "      <td>2.407785e+11</td>\n",
       "    </tr>\n",
       "  </tbody>\n",
       "</table>\n",
       "</div>"
      ],
      "text/plain": [
       "  Symbol   Price    Market Cap\n",
       "0    MMM  152.20  8.329418e+10\n",
       "1    AOS   67.30  9.758165e+09\n",
       "2    ABT  127.93  2.218895e+11\n",
       "3   ABBV  183.90  3.249770e+11\n",
       "4    ACN  384.95  2.407785e+11"
      ]
     },
     "execution_count": 52,
     "metadata": {},
     "output_type": "execute_result"
    }
   ],
   "source": [
    "df1 = pd.read_csv(\"data/constituents-financials.csv\", usecols=[\"Symbol\", \"Price\", \"Market Cap\"])\n",
    "df1.dropna(inplace=True)\n",
    "df1[\"Price\"].astype(np.float32)\n",
    "df1.head()"
   ]
  },
  {
   "cell_type": "code",
   "execution_count": null,
   "metadata": {},
   "outputs": [],
   "source": []
  },
  {
   "cell_type": "markdown",
   "metadata": {},
   "source": [
    "## Looping Through The Tickers in Our List of Stocks\n",
    "\n",
    "Using the same logic that we outlined above, we can pull data for all S&P 500 stocks and store their data in the DataFrame using a `for` loop."
   ]
  },
  {
   "cell_type": "code",
   "execution_count": null,
   "metadata": {},
   "outputs": [],
   "source": []
  },
  {
   "cell_type": "code",
   "execution_count": null,
   "metadata": {},
   "outputs": [],
   "source": []
  },
  {
   "cell_type": "markdown",
   "metadata": {},
   "source": [
    "## Using Batch API Calls to Improve Performance\n",
    "\n",
    "Batch API calls are one of the easiest ways to improve the performance of your code.\n",
    "\n",
    "This is because HTTP requests are typically one of the slowest components of a script.\n",
    "\n",
    "Also, API providers will often give you discounted rates for using batch API calls since they are easier for the API provider to respond to.\n",
    "\n",
    "IEX Cloud limits their batch API calls to 100 tickers per request. Still, this reduces the number of API calls we'll make in this section from 500 to 5 - huge improvement! In this section, we'll split our list of stocks into groups of 100 and then make a batch API call for each group."
   ]
  },
  {
   "cell_type": "code",
   "execution_count": null,
   "metadata": {},
   "outputs": [],
   "source": []
  },
  {
   "cell_type": "code",
   "execution_count": null,
   "metadata": {},
   "outputs": [],
   "source": []
  },
  {
   "cell_type": "markdown",
   "metadata": {},
   "source": [
    "## Calculating the Number of Shares to Buy\n",
    "\n",
    "As you can see in the DataFrame above, we stil haven't calculated the number of shares of each stock to buy.\n",
    "\n",
    "We'll do that next."
   ]
  },
  {
   "cell_type": "code",
   "execution_count": 53,
   "metadata": {},
   "outputs": [],
   "source": [
    "portfolio_size = input(\"Enter the value of your portfolio:\")\n",
    "\n",
    "try:\n",
    "    val = float(portfolio_size)\n",
    "except ValueError:\n",
    "    print(\"That's not a number! \\n Try again:\")\n",
    "    portfolio_size = input(\"Enter the value of your portfolio:\")"
   ]
  },
  {
   "cell_type": "code",
   "execution_count": 55,
   "metadata": {},
   "outputs": [
    {
     "data": {
      "application/vnd.microsoft.datawrangler.viewer.v0+json": {
       "columns": [
        {
         "name": "index",
         "rawType": "int64",
         "type": "integer"
        },
        {
         "name": "Symbol",
         "rawType": "object",
         "type": "string"
        },
        {
         "name": "Price",
         "rawType": "float64",
         "type": "float"
        },
        {
         "name": "Market Cap",
         "rawType": "float64",
         "type": "float"
        },
        {
         "name": "position_size_pct",
         "rawType": "float64",
         "type": "float"
        },
        {
         "name": "num_shares_to_buy1",
         "rawType": "int64",
         "type": "integer"
        },
        {
         "name": "num_shares_to_buy",
         "rawType": "int64",
         "type": "integer"
        }
       ],
       "conversionMethod": "pd.DataFrame",
       "ref": "aa431ecd-b85e-4c45-800f-85898d84442a",
       "rows": [
        [
         "0",
         "MMM",
         "152.2",
         "83294183424.0",
         "0.001488908125681592",
         "9",
         "9"
        ],
        [
         "1",
         "AOS",
         "67.3",
         "9758164992.0",
         "0.00017443008084216507",
         "2",
         "2"
        ],
        [
         "2",
         "ABT",
         "127.93",
         "221889478656.0",
         "0.003966339955485756",
         "31",
         "31"
        ],
        [
         "3",
         "ABBV",
         "183.9",
         "324977033216.0",
         "0.005809060435254613",
         "31",
         "31"
        ],
        [
         "4",
         "ACN",
         "384.95",
         "240778526720.0",
         "0.00430398726761219",
         "11",
         "11"
        ]
       ],
       "shape": {
        "columns": 6,
        "rows": 5
       }
      },
      "text/html": [
       "<div>\n",
       "<style scoped>\n",
       "    .dataframe tbody tr th:only-of-type {\n",
       "        vertical-align: middle;\n",
       "    }\n",
       "\n",
       "    .dataframe tbody tr th {\n",
       "        vertical-align: top;\n",
       "    }\n",
       "\n",
       "    .dataframe thead th {\n",
       "        text-align: right;\n",
       "    }\n",
       "</style>\n",
       "<table border=\"1\" class=\"dataframe\">\n",
       "  <thead>\n",
       "    <tr style=\"text-align: right;\">\n",
       "      <th></th>\n",
       "      <th>Symbol</th>\n",
       "      <th>Price</th>\n",
       "      <th>Market Cap</th>\n",
       "      <th>position_size_pct</th>\n",
       "      <th>num_shares_to_buy1</th>\n",
       "      <th>num_shares_to_buy</th>\n",
       "    </tr>\n",
       "  </thead>\n",
       "  <tbody>\n",
       "    <tr>\n",
       "      <th>0</th>\n",
       "      <td>MMM</td>\n",
       "      <td>152.20</td>\n",
       "      <td>8.329418e+10</td>\n",
       "      <td>0.001489</td>\n",
       "      <td>9</td>\n",
       "      <td>9</td>\n",
       "    </tr>\n",
       "    <tr>\n",
       "      <th>1</th>\n",
       "      <td>AOS</td>\n",
       "      <td>67.30</td>\n",
       "      <td>9.758165e+09</td>\n",
       "      <td>0.000174</td>\n",
       "      <td>2</td>\n",
       "      <td>2</td>\n",
       "    </tr>\n",
       "    <tr>\n",
       "      <th>2</th>\n",
       "      <td>ABT</td>\n",
       "      <td>127.93</td>\n",
       "      <td>2.218895e+11</td>\n",
       "      <td>0.003966</td>\n",
       "      <td>31</td>\n",
       "      <td>31</td>\n",
       "    </tr>\n",
       "    <tr>\n",
       "      <th>3</th>\n",
       "      <td>ABBV</td>\n",
       "      <td>183.90</td>\n",
       "      <td>3.249770e+11</td>\n",
       "      <td>0.005809</td>\n",
       "      <td>31</td>\n",
       "      <td>31</td>\n",
       "    </tr>\n",
       "    <tr>\n",
       "      <th>4</th>\n",
       "      <td>ACN</td>\n",
       "      <td>384.95</td>\n",
       "      <td>2.407785e+11</td>\n",
       "      <td>0.004304</td>\n",
       "      <td>11</td>\n",
       "      <td>11</td>\n",
       "    </tr>\n",
       "  </tbody>\n",
       "</table>\n",
       "</div>"
      ],
      "text/plain": [
       "  Symbol   Price    Market Cap  position_size_pct  num_shares_to_buy1  \\\n",
       "0    MMM  152.20  8.329418e+10           0.001489                   9   \n",
       "1    AOS   67.30  9.758165e+09           0.000174                   2   \n",
       "2    ABT  127.93  2.218895e+11           0.003966                  31   \n",
       "3   ABBV  183.90  3.249770e+11           0.005809                  31   \n",
       "4    ACN  384.95  2.407785e+11           0.004304                  11   \n",
       "\n",
       "   num_shares_to_buy  \n",
       "0                  9  \n",
       "1                  2  \n",
       "2                 31  \n",
       "3                 31  \n",
       "4                 11  "
      ]
     },
     "execution_count": 55,
     "metadata": {},
     "output_type": "execute_result"
    }
   ],
   "source": [
    "total_makt_cap = df1[\"Market Cap\"].sum()\n",
    "df1[\"position_size_pct\"] = df1[\"Market Cap\"].apply(lambda x: x / total_makt_cap)\n",
    "df1[\"position_size_pct\"].astype(np.float32)\n",
    "df1[\"num_shares_to_buy\"] = df1[[\"position_size_pct\", \"Price\"]].apply(\n",
    "    lambda x: math.floor(float(portfolio_size)*x[\"position_size_pct\"] / x[\"Price\"]), axis=1)\n",
    "df1.head()"
   ]
  },
  {
   "cell_type": "markdown",
   "metadata": {},
   "source": [
    "## Formatting Our Excel Output\n",
    "\n",
    "We will be using the XlsxWriter library for Python to create nicely-formatted Excel files.\n",
    "\n",
    "XlsxWriter is an excellent package and offers tons of customization. However, the tradeoff for this is that the library can seem very complicated to new users. Accordingly, this section will be fairly long because I want to do a good job of explaining how XlsxWriter works.\n",
    "\n",
    "### Initializing our XlsxWriter Object"
   ]
  },
  {
   "cell_type": "code",
   "execution_count": null,
   "metadata": {},
   "outputs": [],
   "source": []
  },
  {
   "cell_type": "markdown",
   "metadata": {},
   "source": [
    "### Creating the Formats We'll Need For Our `.xlsx` File\n",
    "\n",
    "Formats include colors, fonts, and also symbols like `%` and `$`. We'll need four main formats for our Excel document:\n",
    "* String format for tickers\n",
    "* \\\\$XX.XX format for stock prices\n",
    "* \\\\$XX,XXX format for market capitalization\n",
    "* Integer format for the number of shares to purchase"
   ]
  },
  {
   "cell_type": "code",
   "execution_count": null,
   "metadata": {},
   "outputs": [],
   "source": []
  },
  {
   "cell_type": "markdown",
   "metadata": {},
   "source": [
    "### Applying the Formats to the Columns of Our `.xlsx` File\n",
    "\n",
    "We can use the `set_column` method applied to the `writer.sheets['Recommended Trades']` object to apply formats to specific columns of our spreadsheets.\n",
    "\n",
    "Here's an example:\n",
    "\n",
    "```python\n",
    "writer.sheets['Recommended Trades'].set_column('B:B', #This tells the method to apply the format to column B\n",
    "                     18, #This tells the method to apply a column width of 18 pixels\n",
    "                     string_template #This applies the format 'string_template' to the column\n",
    "                    )\n",
    "```"
   ]
  },
  {
   "cell_type": "code",
   "execution_count": null,
   "metadata": {},
   "outputs": [],
   "source": []
  },
  {
   "cell_type": "markdown",
   "metadata": {},
   "source": [
    "This code works, but it violates the software principle of \"Don't Repeat Yourself\". \n",
    "\n",
    "Let's simplify this by putting it in 2 loops:"
   ]
  },
  {
   "cell_type": "code",
   "execution_count": null,
   "metadata": {},
   "outputs": [],
   "source": []
  },
  {
   "cell_type": "markdown",
   "metadata": {},
   "source": [
    "## Saving Our Excel Output\n",
    "\n",
    "Saving our Excel file is very easy:"
   ]
  },
  {
   "cell_type": "code",
   "execution_count": null,
   "metadata": {},
   "outputs": [],
   "source": []
  }
 ],
 "metadata": {
  "kernelspec": {
   "display_name": "p312",
   "language": "python",
   "name": "python3"
  },
  "language_info": {
   "codemirror_mode": {
    "name": "ipython",
    "version": 3
   },
   "file_extension": ".py",
   "mimetype": "text/x-python",
   "name": "python",
   "nbconvert_exporter": "python",
   "pygments_lexer": "ipython3",
   "version": "3.12.9"
  }
 },
 "nbformat": 4,
 "nbformat_minor": 4
}
